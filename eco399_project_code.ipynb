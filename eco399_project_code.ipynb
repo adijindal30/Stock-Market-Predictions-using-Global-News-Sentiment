{
  "nbformat": 4,
  "nbformat_minor": 0,
  "metadata": {
    "colab": {
      "name": "eco399 project code.ipynb",
      "provenance": []
    },
    "kernelspec": {
      "name": "python3",
      "display_name": "Python 3"
    },
    "language_info": {
      "name": "python"
    },
    "accelerator": "GPU"
  },
  "cells": [
    {
      "cell_type": "markdown",
      "metadata": {
        "id": "FaQR0czrU0Jx"
      },
      "source": [
        "# Load Libraries"
      ]
    },
    {
      "cell_type": "code",
      "metadata": {
        "colab": {
          "base_uri": "https://localhost:8080/"
        },
        "id": "7YQc7KFhzBkW",
        "outputId": "4222e044-310e-4c09-bcfe-4b7a7b7ee342"
      },
      "source": [
        "import pandas as pd\n",
        "import numpy as np\n",
        "import tensorflow as tf\n",
        "import re\n",
        "from nltk.corpus import stopwords\n",
        "from sklearn.model_selection import train_test_split\n",
        "from sklearn.metrics import median_absolute_error as mae\n",
        "from sklearn.metrics import mean_squared_error as mse\n",
        "from sklearn.metrics import r2_score as r2\n",
        "from sklearn.metrics import accuracy_score as acc\n",
        "import matplotlib.pyplot as plt\n",
        "\n",
        "from keras.models import Sequential\n",
        "from keras import initializers\n",
        "from keras.layers import Dropout, Activation, Embedding, Convolution1D, MaxPooling1D, Input, Dense, merge, BatchNormalization, Flatten, Reshape, Concatenate\n",
        "from keras.layers.recurrent import LSTM, GRU\n",
        "from keras.callbacks import Callback, ModelCheckpoint, EarlyStopping, ReduceLROnPlateau\n",
        "from keras.models import Model\n",
        "from keras.optimizers import Adam, SGD, RMSprop\n",
        "from keras import regularizers\n",
        "from keras.layers import *\n",
        "from keras.layers import add\n",
        "import time\n",
        "import nltk\n",
        "nltk.download('stopwords')"
      ],
      "execution_count": 1,
      "outputs": [
        {
          "output_type": "stream",
          "text": [
            "[nltk_data] Downloading package stopwords to /root/nltk_data...\n",
            "[nltk_data]   Unzipping corpora/stopwords.zip.\n"
          ],
          "name": "stdout"
        },
        {
          "output_type": "execute_result",
          "data": {
            "text/plain": [
              "True"
            ]
          },
          "metadata": {
            "tags": []
          },
          "execution_count": 1
        }
      ]
    },
    {
      "cell_type": "code",
      "metadata": {
        "colab": {
          "base_uri": "https://localhost:8080/"
        },
        "id": "8IVtcAB3zUGw",
        "outputId": "d3b163f7-effd-4f59-d6b7-8eb46d0b1e63"
      },
      "source": [
        "%cd /content/drive/MyDrive/Finance Project\n"
      ],
      "execution_count": 2,
      "outputs": [
        {
          "output_type": "stream",
          "text": [
            "/content/drive/MyDrive/Finance Project\n"
          ],
          "name": "stdout"
        }
      ]
    },
    {
      "cell_type": "code",
      "metadata": {
        "colab": {
          "base_uri": "https://localhost:8080/"
        },
        "id": "-pxcBzbczZYJ",
        "outputId": "11f71935-ee9a-47ce-c987-0ca38fb3754f"
      },
      "source": [
        "ls"
      ],
      "execution_count": 3,
      "outputs": [
        {
          "output_type": "stream",
          "text": [
            " Combined_News_DJIA.csv   glove.6B.50d.txt\n",
            "'ECO 399 Project.gdoc'    glove.6B.zip\n",
            "'Fin project.ipynb'       nlp-for-stock-market-prediction.ipynb\n",
            " glove.6B.100d.txt        RedditNews.csv\n",
            " glove.6B.200d.txt        upload_DJIA_table.csv\n",
            " glove.6B.300d.txt\n"
          ],
          "name": "stdout"
        }
      ]
    },
    {
      "cell_type": "markdown",
      "metadata": {
        "id": "sT2jRpdFU8H3"
      },
      "source": [
        "# Load Data"
      ]
    },
    {
      "cell_type": "code",
      "metadata": {
        "colab": {
          "base_uri": "https://localhost:8080/"
        },
        "id": "ujkU-jRrn0OS",
        "outputId": "6acdc3d7-7db3-4c8b-ed6f-a1ea882deed6"
      },
      "source": [
        "!unzip glove.840B.300d.zip\n"
      ],
      "execution_count": 30,
      "outputs": [
        {
          "output_type": "stream",
          "text": [
            "Archive:  glove.840B.300d.zip\n",
            "  inflating: glove.840B.300d.txt     \n"
          ],
          "name": "stdout"
        }
      ]
    },
    {
      "cell_type": "code",
      "metadata": {
        "colab": {
          "base_uri": "https://localhost:8080/"
        },
        "id": "GkuoWhQQn1aA",
        "outputId": "09455ce8-7a49-4da4-dc6a-67a6f1dc6a81"
      },
      "source": [
        "!ls\n",
        "!pwd"
      ],
      "execution_count": 29,
      "outputs": [
        {
          "output_type": "stream",
          "text": [
            " Combined_News_DJIA.csv   glove.6B.50d.txt\n",
            "'ECO 399 Project.gdoc'\t  glove.6B.zip\n",
            "'Fin project.ipynb'\t  glove.840B.300d.zip\n",
            " glove.6B.100d.txt\t  nlp-for-stock-market-prediction.ipynb\n",
            " glove.6B.200d.txt\t  RedditNews.csv\n",
            " glove.6B.300d.txt\t  upload_DJIA_table.csv\n",
            "/content/drive/My Drive/Finance Project\n"
          ],
          "name": "stdout"
        }
      ]
    },
    {
      "cell_type": "code",
      "metadata": {
        "id": "BrUm7dqRzJ_U"
      },
      "source": [
        "dj = pd.read_csv(\"upload_DJIA_table.csv\")\n",
        "news = pd.read_csv(\"RedditNews.csv\")"
      ],
      "execution_count": 4,
      "outputs": []
    },
    {
      "cell_type": "code",
      "metadata": {
        "colab": {
          "base_uri": "https://localhost:8080/",
          "height": 204
        },
        "id": "d1CDTHd-zgfJ",
        "outputId": "1ee153c2-41dc-4a1d-c198-8943e3802015"
      },
      "source": [
        "dj.head()"
      ],
      "execution_count": 5,
      "outputs": [
        {
          "output_type": "execute_result",
          "data": {
            "text/html": [
              "<div>\n",
              "<style scoped>\n",
              "    .dataframe tbody tr th:only-of-type {\n",
              "        vertical-align: middle;\n",
              "    }\n",
              "\n",
              "    .dataframe tbody tr th {\n",
              "        vertical-align: top;\n",
              "    }\n",
              "\n",
              "    .dataframe thead th {\n",
              "        text-align: right;\n",
              "    }\n",
              "</style>\n",
              "<table border=\"1\" class=\"dataframe\">\n",
              "  <thead>\n",
              "    <tr style=\"text-align: right;\">\n",
              "      <th></th>\n",
              "      <th>Date</th>\n",
              "      <th>Open</th>\n",
              "      <th>High</th>\n",
              "      <th>Low</th>\n",
              "      <th>Close</th>\n",
              "      <th>Volume</th>\n",
              "      <th>Adj Close</th>\n",
              "    </tr>\n",
              "  </thead>\n",
              "  <tbody>\n",
              "    <tr>\n",
              "      <th>0</th>\n",
              "      <td>2016-07-01</td>\n",
              "      <td>17924.240234</td>\n",
              "      <td>18002.380859</td>\n",
              "      <td>17916.910156</td>\n",
              "      <td>17949.369141</td>\n",
              "      <td>82160000</td>\n",
              "      <td>17949.369141</td>\n",
              "    </tr>\n",
              "    <tr>\n",
              "      <th>1</th>\n",
              "      <td>2016-06-30</td>\n",
              "      <td>17712.759766</td>\n",
              "      <td>17930.609375</td>\n",
              "      <td>17711.800781</td>\n",
              "      <td>17929.990234</td>\n",
              "      <td>133030000</td>\n",
              "      <td>17929.990234</td>\n",
              "    </tr>\n",
              "    <tr>\n",
              "      <th>2</th>\n",
              "      <td>2016-06-29</td>\n",
              "      <td>17456.019531</td>\n",
              "      <td>17704.509766</td>\n",
              "      <td>17456.019531</td>\n",
              "      <td>17694.679688</td>\n",
              "      <td>106380000</td>\n",
              "      <td>17694.679688</td>\n",
              "    </tr>\n",
              "    <tr>\n",
              "      <th>3</th>\n",
              "      <td>2016-06-28</td>\n",
              "      <td>17190.509766</td>\n",
              "      <td>17409.720703</td>\n",
              "      <td>17190.509766</td>\n",
              "      <td>17409.720703</td>\n",
              "      <td>112190000</td>\n",
              "      <td>17409.720703</td>\n",
              "    </tr>\n",
              "    <tr>\n",
              "      <th>4</th>\n",
              "      <td>2016-06-27</td>\n",
              "      <td>17355.210938</td>\n",
              "      <td>17355.210938</td>\n",
              "      <td>17063.080078</td>\n",
              "      <td>17140.240234</td>\n",
              "      <td>138740000</td>\n",
              "      <td>17140.240234</td>\n",
              "    </tr>\n",
              "  </tbody>\n",
              "</table>\n",
              "</div>"
            ],
            "text/plain": [
              "         Date          Open  ...     Volume     Adj Close\n",
              "0  2016-07-01  17924.240234  ...   82160000  17949.369141\n",
              "1  2016-06-30  17712.759766  ...  133030000  17929.990234\n",
              "2  2016-06-29  17456.019531  ...  106380000  17694.679688\n",
              "3  2016-06-28  17190.509766  ...  112190000  17409.720703\n",
              "4  2016-06-27  17355.210938  ...  138740000  17140.240234\n",
              "\n",
              "[5 rows x 7 columns]"
            ]
          },
          "metadata": {
            "tags": []
          },
          "execution_count": 5
        }
      ]
    },
    {
      "cell_type": "code",
      "metadata": {
        "colab": {
          "base_uri": "https://localhost:8080/"
        },
        "id": "jWCxT8q1zi-d",
        "outputId": "e992b4ed-27cd-490d-ebb2-26f1d4217729"
      },
      "source": [
        "\n",
        "dj.isnull().sum()"
      ],
      "execution_count": 6,
      "outputs": [
        {
          "output_type": "execute_result",
          "data": {
            "text/plain": [
              "Date         0\n",
              "Open         0\n",
              "High         0\n",
              "Low          0\n",
              "Close        0\n",
              "Volume       0\n",
              "Adj Close    0\n",
              "dtype: int64"
            ]
          },
          "metadata": {
            "tags": []
          },
          "execution_count": 6
        }
      ]
    },
    {
      "cell_type": "code",
      "metadata": {
        "colab": {
          "base_uri": "https://localhost:8080/"
        },
        "id": "TSqH4EkHzlpO",
        "outputId": "44d6f797-5c6f-48df-f4a6-79c00f7d1814"
      },
      "source": [
        "news.isnull().sum()"
      ],
      "execution_count": 7,
      "outputs": [
        {
          "output_type": "execute_result",
          "data": {
            "text/plain": [
              "Date    0\n",
              "News    0\n",
              "dtype: int64"
            ]
          },
          "metadata": {
            "tags": []
          },
          "execution_count": 7
        }
      ]
    },
    {
      "cell_type": "code",
      "metadata": {
        "colab": {
          "base_uri": "https://localhost:8080/",
          "height": 204
        },
        "id": "rhlkwP7szny4",
        "outputId": "54645a63-5be4-44df-e670-1e8ce1f51b0c"
      },
      "source": [
        "\n",
        "news.head()\n"
      ],
      "execution_count": 8,
      "outputs": [
        {
          "output_type": "execute_result",
          "data": {
            "text/html": [
              "<div>\n",
              "<style scoped>\n",
              "    .dataframe tbody tr th:only-of-type {\n",
              "        vertical-align: middle;\n",
              "    }\n",
              "\n",
              "    .dataframe tbody tr th {\n",
              "        vertical-align: top;\n",
              "    }\n",
              "\n",
              "    .dataframe thead th {\n",
              "        text-align: right;\n",
              "    }\n",
              "</style>\n",
              "<table border=\"1\" class=\"dataframe\">\n",
              "  <thead>\n",
              "    <tr style=\"text-align: right;\">\n",
              "      <th></th>\n",
              "      <th>Date</th>\n",
              "      <th>News</th>\n",
              "    </tr>\n",
              "  </thead>\n",
              "  <tbody>\n",
              "    <tr>\n",
              "      <th>0</th>\n",
              "      <td>2016-07-01</td>\n",
              "      <td>A 117-year-old woman in Mexico City finally re...</td>\n",
              "    </tr>\n",
              "    <tr>\n",
              "      <th>1</th>\n",
              "      <td>2016-07-01</td>\n",
              "      <td>IMF chief backs Athens as permanent Olympic host</td>\n",
              "    </tr>\n",
              "    <tr>\n",
              "      <th>2</th>\n",
              "      <td>2016-07-01</td>\n",
              "      <td>The president of France says if Brexit won, so...</td>\n",
              "    </tr>\n",
              "    <tr>\n",
              "      <th>3</th>\n",
              "      <td>2016-07-01</td>\n",
              "      <td>British Man Who Must Give Police 24 Hours' Not...</td>\n",
              "    </tr>\n",
              "    <tr>\n",
              "      <th>4</th>\n",
              "      <td>2016-07-01</td>\n",
              "      <td>100+ Nobel laureates urge Greenpeace to stop o...</td>\n",
              "    </tr>\n",
              "  </tbody>\n",
              "</table>\n",
              "</div>"
            ],
            "text/plain": [
              "         Date                                               News\n",
              "0  2016-07-01  A 117-year-old woman in Mexico City finally re...\n",
              "1  2016-07-01   IMF chief backs Athens as permanent Olympic host\n",
              "2  2016-07-01  The president of France says if Brexit won, so...\n",
              "3  2016-07-01  British Man Who Must Give Police 24 Hours' Not...\n",
              "4  2016-07-01  100+ Nobel laureates urge Greenpeace to stop o..."
            ]
          },
          "metadata": {
            "tags": []
          },
          "execution_count": 8
        }
      ]
    },
    {
      "cell_type": "code",
      "metadata": {
        "colab": {
          "base_uri": "https://localhost:8080/"
        },
        "id": "9k01Z-UBzpXZ",
        "outputId": "eae45c4c-09e9-4d65-b757-258bd7fbdaf5"
      },
      "source": [
        "\n",
        "print(dj.shape)\n",
        "print(news.shape)"
      ],
      "execution_count": 9,
      "outputs": [
        {
          "output_type": "stream",
          "text": [
            "(1989, 7)\n",
            "(73608, 2)\n"
          ],
          "name": "stdout"
        }
      ]
    },
    {
      "cell_type": "code",
      "metadata": {
        "colab": {
          "base_uri": "https://localhost:8080/"
        },
        "id": "X1JCPwcNzsOJ",
        "outputId": "f14fc8ca-167b-4f9a-cc5d-4b1b4bd6ad19"
      },
      "source": [
        "# Compare the number of unique dates. We want matching values.\n",
        "print(len(set(dj.Date)))\n",
        "print(len(set(news.Date)))"
      ],
      "execution_count": 10,
      "outputs": [
        {
          "output_type": "stream",
          "text": [
            "1989\n",
            "2943\n"
          ],
          "name": "stdout"
        }
      ]
    },
    {
      "cell_type": "code",
      "metadata": {
        "id": "neSZGuJyzv0u"
      },
      "source": [
        "news = news[news.Date.isin(dj.Date)]"
      ],
      "execution_count": 11,
      "outputs": []
    },
    {
      "cell_type": "code",
      "metadata": {
        "colab": {
          "base_uri": "https://localhost:8080/"
        },
        "id": "LVTJi8Fb0OPV",
        "outputId": "e8c88bd5-9d6d-45ed-9a0e-d42f3573382b"
      },
      "source": [
        "\n",
        "print(len(set(dj.Date)))\n",
        "print(len(set(news.Date)))"
      ],
      "execution_count": 12,
      "outputs": [
        {
          "output_type": "stream",
          "text": [
            "1989\n",
            "1989\n"
          ],
          "name": "stdout"
        }
      ]
    },
    {
      "cell_type": "code",
      "metadata": {
        "id": "RLgwdUGU0Q6l"
      },
      "source": [
        "dj = dj.set_index('Date').diff(periods=1)\n",
        "dj['Date'] = dj.index\n",
        "dj = dj.reset_index(drop=True)\n",
        "# Remove unneeded features\n",
        "dj = dj.drop(['High','Low','Close','Volume','Adj Close'], 1)\n"
      ],
      "execution_count": 13,
      "outputs": []
    },
    {
      "cell_type": "code",
      "metadata": {
        "colab": {
          "base_uri": "https://localhost:8080/",
          "height": 204
        },
        "id": "xNEWo6M80UsH",
        "outputId": "e46474bb-8435-4a12-a364-221ec70590b3"
      },
      "source": [
        "dj.head()"
      ],
      "execution_count": 14,
      "outputs": [
        {
          "output_type": "execute_result",
          "data": {
            "text/html": [
              "<div>\n",
              "<style scoped>\n",
              "    .dataframe tbody tr th:only-of-type {\n",
              "        vertical-align: middle;\n",
              "    }\n",
              "\n",
              "    .dataframe tbody tr th {\n",
              "        vertical-align: top;\n",
              "    }\n",
              "\n",
              "    .dataframe thead th {\n",
              "        text-align: right;\n",
              "    }\n",
              "</style>\n",
              "<table border=\"1\" class=\"dataframe\">\n",
              "  <thead>\n",
              "    <tr style=\"text-align: right;\">\n",
              "      <th></th>\n",
              "      <th>Open</th>\n",
              "      <th>Date</th>\n",
              "    </tr>\n",
              "  </thead>\n",
              "  <tbody>\n",
              "    <tr>\n",
              "      <th>0</th>\n",
              "      <td>NaN</td>\n",
              "      <td>2016-07-01</td>\n",
              "    </tr>\n",
              "    <tr>\n",
              "      <th>1</th>\n",
              "      <td>-211.480468</td>\n",
              "      <td>2016-06-30</td>\n",
              "    </tr>\n",
              "    <tr>\n",
              "      <th>2</th>\n",
              "      <td>-256.740235</td>\n",
              "      <td>2016-06-29</td>\n",
              "    </tr>\n",
              "    <tr>\n",
              "      <th>3</th>\n",
              "      <td>-265.509765</td>\n",
              "      <td>2016-06-28</td>\n",
              "    </tr>\n",
              "    <tr>\n",
              "      <th>4</th>\n",
              "      <td>164.701172</td>\n",
              "      <td>2016-06-27</td>\n",
              "    </tr>\n",
              "  </tbody>\n",
              "</table>\n",
              "</div>"
            ],
            "text/plain": [
              "         Open        Date\n",
              "0         NaN  2016-07-01\n",
              "1 -211.480468  2016-06-30\n",
              "2 -256.740235  2016-06-29\n",
              "3 -265.509765  2016-06-28\n",
              "4  164.701172  2016-06-27"
            ]
          },
          "metadata": {
            "tags": []
          },
          "execution_count": 14
        }
      ]
    },
    {
      "cell_type": "code",
      "metadata": {
        "id": "d2aR_jG20eIg"
      },
      "source": [
        "dj = dj[dj.Open.notnull()]"
      ],
      "execution_count": 15,
      "outputs": []
    },
    {
      "cell_type": "code",
      "metadata": {
        "colab": {
          "base_uri": "https://localhost:8080/"
        },
        "id": "DkHRO2TC0iGo",
        "outputId": "344d23b8-5c01-4248-ecf6-fa36846882aa"
      },
      "source": [
        "# Check if there are any more null values.\n",
        "dj.isnull().sum()\n"
      ],
      "execution_count": 16,
      "outputs": [
        {
          "output_type": "execute_result",
          "data": {
            "text/plain": [
              "Open    0\n",
              "Date    0\n",
              "dtype: int64"
            ]
          },
          "metadata": {
            "tags": []
          },
          "execution_count": 16
        }
      ]
    },
    {
      "cell_type": "code",
      "metadata": {
        "colab": {
          "base_uri": "https://localhost:8080/"
        },
        "id": "v_LWpQWv0lh1",
        "outputId": "18199445-ef74-44c3-88d7-75022114e71d"
      },
      "source": [
        "\n",
        "# Create a list of the opening prices and their corresponding daily headlines from the news\n",
        "price = []\n",
        "headlines = []\n",
        "\n",
        "for row in dj.iterrows():\n",
        "    daily_headlines = []\n",
        "    date = row[1]['Date']\n",
        "    price.append(row[1]['Open'])\n",
        "    for row_ in news[news.Date==date].iterrows():\n",
        "        daily_headlines.append(row_[1]['News'])\n",
        "    \n",
        "    # Track progress\n",
        "    headlines.append(daily_headlines)\n",
        "    if len(price) % 500 == 0:\n",
        "        print(len(price))"
      ],
      "execution_count": 17,
      "outputs": [
        {
          "output_type": "stream",
          "text": [
            "500\n",
            "1000\n",
            "1500\n"
          ],
          "name": "stdout"
        }
      ]
    },
    {
      "cell_type": "code",
      "metadata": {
        "colab": {
          "base_uri": "https://localhost:8080/"
        },
        "id": "LEzDKOeH0l04",
        "outputId": "7cf926e0-aa3b-4eeb-aad2-8367e5d96202"
      },
      "source": [
        "print(len(price))\n",
        "print(len(headlines))"
      ],
      "execution_count": 18,
      "outputs": [
        {
          "output_type": "stream",
          "text": [
            "1988\n",
            "1988\n"
          ],
          "name": "stdout"
        }
      ]
    },
    {
      "cell_type": "markdown",
      "metadata": {
        "id": "6A1lPRXyT2EY"
      },
      "source": [
        "\n",
        "# Compare the number of headlines for each day"
      ]
    },
    {
      "cell_type": "code",
      "metadata": {
        "colab": {
          "base_uri": "https://localhost:8080/"
        },
        "id": "FKzeQCac0pum",
        "outputId": "1ba0a6b3-5378-41f5-f2ef-70bb7c0581e7"
      },
      "source": [
        "print(max(len(i) for i in headlines))\n",
        "print(min(len(i) for i in headlines))"
      ],
      "execution_count": 19,
      "outputs": [
        {
          "output_type": "stream",
          "text": [
            "25\n",
            "22\n"
          ],
          "name": "stdout"
        }
      ]
    },
    {
      "cell_type": "code",
      "metadata": {
        "id": "xLGJb2pm148t"
      },
      "source": [
        "contractions = { \n",
        "\"ain't\": \"am not\",\n",
        "\"aren't\": \"are not\",\n",
        "\"can't\": \"cannot\",\n",
        "\"can't've\": \"cannot have\",\n",
        "\"'cause\": \"because\",\n",
        "\"could've\": \"could have\",\n",
        "\"couldn't\": \"could not\",\n",
        "\"couldn't've\": \"could not have\",\n",
        "\"didn't\": \"did not\",\n",
        "\"doesn't\": \"does not\",\n",
        "\"don't\": \"do not\",\n",
        "\"hadn't\": \"had not\",\n",
        "\"hadn't've\": \"had not have\",\n",
        "\"hasn't\": \"has not\",\n",
        "\"haven't\": \"have not\",\n",
        "\"he'd\": \"he would\",\n",
        "\"he'd've\": \"he would have\",\n",
        "\"he'll\": \"he will\",\n",
        "\"he's\": \"he is\",\n",
        "\"how'd\": \"how did\",\n",
        "\"how'll\": \"how will\",\n",
        "\"how's\": \"how is\",\n",
        "\"i'd\": \"i would\",\n",
        "\"i'll\": \"i will\",\n",
        "\"i'm\": \"i am\",\n",
        "\"i've\": \"i have\",\n",
        "\"isn't\": \"is not\",\n",
        "\"it'd\": \"it would\",\n",
        "\"it'll\": \"it will\",\n",
        "\"it's\": \"it is\",\n",
        "\"let's\": \"let us\",\n",
        "\"ma'am\": \"madam\",\n",
        "\"mayn't\": \"may not\",\n",
        "\"might've\": \"might have\",\n",
        "\"mightn't\": \"might not\",\n",
        "\"must've\": \"must have\",\n",
        "\"mustn't\": \"must not\",\n",
        "\"needn't\": \"need not\",\n",
        "\"oughtn't\": \"ought not\",\n",
        "\"shan't\": \"shall not\",\n",
        "\"sha'n't\": \"shall not\",\n",
        "\"she'd\": \"she would\",\n",
        "\"she'll\": \"she will\",\n",
        "\"she's\": \"she is\",\n",
        "\"should've\": \"should have\",\n",
        "\"shouldn't\": \"should not\",\n",
        "\"that'd\": \"that would\",\n",
        "\"that's\": \"that is\",\n",
        "\"there'd\": \"there had\",\n",
        "\"there's\": \"there is\",\n",
        "\"they'd\": \"they would\",\n",
        "\"they'll\": \"they will\",\n",
        "\"they're\": \"they are\",\n",
        "\"they've\": \"they have\",\n",
        "\"wasn't\": \"was not\",\n",
        "\"we'd\": \"we would\",\n",
        "\"we'll\": \"we will\",\n",
        "\"we're\": \"we are\",\n",
        "\"we've\": \"we have\",\n",
        "\"weren't\": \"were not\",\n",
        "\"what'll\": \"what will\",\n",
        "\"what're\": \"what are\",\n",
        "\"what's\": \"what is\",\n",
        "\"what've\": \"what have\",\n",
        "\"where'd\": \"where did\",\n",
        "\"where's\": \"where is\",\n",
        "\"who'll\": \"who will\",\n",
        "\"who's\": \"who is\",\n",
        "\"won't\": \"will not\",\n",
        "\"wouldn't\": \"would not\",\n",
        "\"you'd\": \"you would\",\n",
        "\"you'll\": \"you will\",\n",
        "\"you're\": \"you are\"\n",
        "}"
      ],
      "execution_count": 20,
      "outputs": []
    },
    {
      "cell_type": "code",
      "metadata": {
        "id": "A9RqQ1ugoC07"
      },
      "source": [
        "def clean_text(text, remove_stopwords = True):\n",
        "    '''Remove unwanted characters and format the text to create fewer nulls word embeddings'''\n",
        "    \n",
        "    # Convert words to lower case\n",
        "    text = text.lower()\n",
        "    \n",
        "    # Replace contractions with their longer forms \n",
        "    if True:\n",
        "        text = text.split()\n",
        "        new_text = []\n",
        "        for word in text:\n",
        "            if word in contractions:\n",
        "                new_text.append(contractions[word])\n",
        "            else:\n",
        "                new_text.append(word)\n",
        "        text = \" \".join(new_text)\n",
        "    \n",
        "    # Format words and remove unwanted characters\n",
        "    text = re.sub(r'&amp;', '', text) \n",
        "    text = re.sub(r'0,0', '00', text) \n",
        "    text = re.sub(r'[_\"\\-;%()|.,+&=*%.,!?:#@\\[\\]]', ' ', text)\n",
        "    text = re.sub(r'\\'', ' ', text)\n",
        "    text = re.sub(r'\\$', ' $ ', text)\n",
        "    text = re.sub(r'u s ', ' united states ', text)\n",
        "    text = re.sub(r'u n ', ' united nations ', text)\n",
        "    text = re.sub(r'u k ', ' united kingdom ', text)\n",
        "    text = re.sub(r'j k ', ' jk ', text)\n",
        "    text = re.sub(r' s ', ' ', text)\n",
        "    text = re.sub(r' yr ', ' year ', text)\n",
        "    text = re.sub(r' l g b t ', ' lgbt ', text)\n",
        "    text = re.sub(r'0km ', '0 km ', text)\n",
        "    \n",
        "    # Optionally, remove stop words\n",
        "    if remove_stopwords:\n",
        "        text = text.split()\n",
        "        stops = set(stopwords.words(\"english\"))\n",
        "        text = [w for w in text if not w in stops]\n",
        "        text = \" \".join(text)\n",
        "\n",
        "    return text\n"
      ],
      "execution_count": 21,
      "outputs": []
    },
    {
      "cell_type": "code",
      "metadata": {
        "id": "PDjGFhdhoFxG"
      },
      "source": [
        "\n",
        "# Clean the headlines\n",
        "clean_headlines = []\n",
        "\n",
        "for daily_headlines in headlines:\n",
        "    clean_daily_headlines = []\n",
        "    for headline in daily_headlines:\n",
        "        clean_daily_headlines.append(clean_text(headline))\n",
        "    clean_headlines.append(clean_daily_headlines)\n"
      ],
      "execution_count": 22,
      "outputs": []
    },
    {
      "cell_type": "markdown",
      "metadata": {
        "id": "d70-BZSHT6YJ"
      },
      "source": [
        "# Take a look at some headlines to ensure everything was cleaned well\n",
        "\n",
        "\n"
      ]
    },
    {
      "cell_type": "code",
      "metadata": {
        "colab": {
          "base_uri": "https://localhost:8080/"
        },
        "id": "lWd8RPvSoH5G",
        "outputId": "174d5f12-1150-4e11-a0d9-e7b7719d4731"
      },
      "source": [
        "clean_headlines[0]\n"
      ],
      "execution_count": 23,
      "outputs": [
        {
          "output_type": "execute_result",
          "data": {
            "text/plain": [
              "['jamaica proposes marijuana dispensers tourists airports following legalisation kiosks desks would give people license purchase 2 ounces drug use stay',\n",
              " 'stephen hawking says pollution stupidity still biggest threats mankind certainly become less greedy less stupid treatment environment past decade',\n",
              " 'boris johnson says run tory party leadership',\n",
              " 'six gay men ivory coast abused forced flee homes pictured signing condolence book victims recent attack gay nightclub florida',\n",
              " 'switzerland denies citizenship muslim immigrant girls refused swim boys report',\n",
              " 'palestinian terrorist stabs israeli teen girl death bedroom',\n",
              " 'puerto rico default $ 1 billion debt friday',\n",
              " 'republic ireland fans awarded medal sportsmanship paris mayor',\n",
              " 'afghan suicide bomber kills 40 bbc news',\n",
              " 'us airstrikes kill least 250 isis fighters convoy outside fallujah official says',\n",
              " 'turkish cop took istanbul gunman hailed hero',\n",
              " 'cannabis compounds could treat alzheimer removing plaque forming proteins brain cells research suggests',\n",
              " 'japan top court approved blanket surveillance country muslims made us terrorist suspects never anything wrong says japanese muslim mohammed fujita',\n",
              " 'cia gave romania millions host secret prisons',\n",
              " 'groups urge united nations suspend saudi arabia rights council',\n",
              " 'googles free wifi indian railway stations better countrys paid services',\n",
              " 'mounting evidence suggests hobbits wiped modern humans ancestors 50000 years ago',\n",
              " 'men carried tuesday terror attack istanbul ataturk airport russia uzbekistan kyrgyzstan turkish offical said',\n",
              " 'calls suspend saudi arabia un human rights council military aggresion yemen',\n",
              " '100 nobel laureates call greenpeace anti gmo obstruction developing world',\n",
              " 'british pedophile sentenced 85 years us trafficking child abuse images domminich shaw kingpin sexual violence children sent dozens images online discussed plans assault kill child probation',\n",
              " 'us permitted 1 200 offshore fracks gulf mexico 2010 2014 allowed 72 billion gallons chemical discharge 2014',\n",
              " 'swimming ridicule french beach police carry guns swimming trunks police lifeguards frances busiest beaches carry guns bullet proof vests first time summer amid fears terrorists could target holidaymakers',\n",
              " 'uefa says minutes silence istanbul victims euro 2016 turkey already eliminated',\n",
              " 'law enforcement sources gun used paris terrorist attacks came phoenix']"
            ]
          },
          "metadata": {
            "tags": []
          },
          "execution_count": 23
        }
      ]
    },
    {
      "cell_type": "markdown",
      "metadata": {
        "id": "xjS0FN6XUATM"
      },
      "source": [
        "# Find the number of times each word was used and the size of the vocabulary\n"
      ]
    },
    {
      "cell_type": "code",
      "metadata": {
        "colab": {
          "base_uri": "https://localhost:8080/"
        },
        "id": "-T9ZwLWNQ7xJ",
        "outputId": "481aef99-e76c-48c1-9752-45a7c17c30ac"
      },
      "source": [
        "word_counts = {}\n",
        "\n",
        "for date in clean_headlines:\n",
        "    for headline in date:\n",
        "        for word in headline.split():\n",
        "            if word not in word_counts:\n",
        "                word_counts[word] = 1\n",
        "            else:\n",
        "                word_counts[word] += 1\n",
        "            \n",
        "print(\"Size of Vocabulary:\", len(word_counts))\n"
      ],
      "execution_count": 24,
      "outputs": [
        {
          "output_type": "stream",
          "text": [
            "Size of Vocabulary: 35190\n"
          ],
          "name": "stdout"
        }
      ]
    },
    {
      "cell_type": "code",
      "metadata": {
        "colab": {
          "base_uri": "https://localhost:8080/"
        },
        "id": "2CqN1Fj2S18K",
        "outputId": "73607212-0e73-4b8e-d363-14b4f23f4917"
      },
      "source": [
        "ls"
      ],
      "execution_count": 27,
      "outputs": [
        {
          "output_type": "stream",
          "text": [
            " Combined_News_DJIA.csv   glove.6B.50d.txt\n",
            "'ECO 399 Project.gdoc'    glove.6B.zip\n",
            "'Fin project.ipynb'       nlp-for-stock-market-prediction.ipynb\n",
            " glove.6B.100d.txt        RedditNews.csv\n",
            " glove.6B.200d.txt        upload_DJIA_table.csv\n",
            " glove.6B.300d.txt\n"
          ],
          "name": "stdout"
        }
      ]
    },
    {
      "cell_type": "markdown",
      "metadata": {
        "id": "uaWjBkumUCyc"
      },
      "source": [
        "\n",
        "# Load GloVe's embeddings"
      ]
    },
    {
      "cell_type": "code",
      "metadata": {
        "colab": {
          "base_uri": "https://localhost:8080/"
        },
        "id": "FyeMRkXsQ954",
        "outputId": "eb9d0c06-4081-4a72-db7e-7f463a1678ee"
      },
      "source": [
        "\n",
        "embeddings_index = {}\n",
        "with open('/content/drive/My Drive/Finance Project/glove.840B.300d.txt', encoding='utf-8') as f:\n",
        "    for line in f:\n",
        "        values = line.split(' ')\n",
        "        word = values[0]\n",
        "        embedding = np.asarray(values[1:], dtype='float32')\n",
        "        embeddings_index[word] = embedding\n",
        "\n",
        "print('Word embeddings:', len(embeddings_index))\n",
        "\n"
      ],
      "execution_count": 31,
      "outputs": [
        {
          "output_type": "stream",
          "text": [
            "Word embeddings: 2196016\n"
          ],
          "name": "stdout"
        }
      ]
    },
    {
      "cell_type": "markdown",
      "metadata": {
        "id": "mbV5gQPTUGPE"
      },
      "source": [
        "## Find the number of words that are missing from GloVe, and are used more than our threshold.\n"
      ]
    },
    {
      "cell_type": "code",
      "metadata": {
        "colab": {
          "base_uri": "https://localhost:8080/"
        },
        "id": "cGi_ak6nRAsv",
        "outputId": "f8120fe0-56d8-4dcb-e501-14f4e683d4ba"
      },
      "source": [
        "missing_words = 0\n",
        "threshold = 10\n",
        "\n",
        "for word, count in word_counts.items():\n",
        "    if count > threshold:\n",
        "        if word not in embeddings_index:\n",
        "            missing_words += 1\n",
        "            \n",
        "missing_ratio = round(missing_words/len(word_counts),4)*100\n",
        "            \n",
        "print(\"Number of words missing from GloVe:\", missing_words)\n",
        "print(\"Percent of words that are missing from vocabulary: {}%\".format(missing_ratio))\n",
        "\n"
      ],
      "execution_count": 32,
      "outputs": [
        {
          "output_type": "stream",
          "text": [
            "Number of words missing from GloVe: 47\n",
            "Percent of words that are missing from vocabulary: 0.13%\n"
          ],
          "name": "stdout"
        }
      ]
    },
    {
      "cell_type": "markdown",
      "metadata": {
        "id": "i3oSPjJGUPWJ"
      },
      "source": [
        "# Limit the vocab that we will use to words that appear ≥ threshold or are in GloVe\n",
        "\n",
        "#dictionary to convert words to integers"
      ]
    },
    {
      "cell_type": "code",
      "metadata": {
        "colab": {
          "base_uri": "https://localhost:8080/"
        },
        "id": "OR-ob4teRETs",
        "outputId": "a035bf0c-1587-4ff6-94cd-a8b2d1c74954"
      },
      "source": [
        "\n",
        "vocab_to_int = {} \n",
        "\n",
        "value = 0\n",
        "for word, count in word_counts.items():\n",
        "    if count >= threshold or word in embeddings_index:\n",
        "        vocab_to_int[word] = value\n",
        "        value += 1\n",
        "\n",
        "# Special tokens that will be added to our vocab\n",
        "codes = [\"<UNK>\",\"<PAD>\"]   \n",
        "\n",
        "# Add codes to vocab\n",
        "for code in codes:\n",
        "    vocab_to_int[code] = len(vocab_to_int)\n",
        "\n",
        "# Dictionary to convert integers to words\n",
        "int_to_vocab = {}\n",
        "for word, value in vocab_to_int.items():\n",
        "    int_to_vocab[value] = word\n",
        "\n",
        "usage_ratio = round(len(vocab_to_int) / len(word_counts),4)*100\n",
        "\n",
        "print(\"Total Number of Unique Words:\", len(word_counts))\n",
        "print(\"Number of Words we will use:\", len(vocab_to_int))\n",
        "print(\"Percent of Words we will use: {}%\".format(usage_ratio))\n",
        "\n"
      ],
      "execution_count": 33,
      "outputs": [
        {
          "output_type": "stream",
          "text": [
            "Total Number of Unique Words: 35190\n",
            "Number of Words we will use: 31265\n",
            "Percent of Words we will use: 88.85%\n"
          ],
          "name": "stdout"
        }
      ]
    },
    {
      "cell_type": "code",
      "metadata": {
        "colab": {
          "base_uri": "https://localhost:8080/"
        },
        "id": "VGCG7PyxRG-U",
        "outputId": "05c4646b-1565-40a6-b46e-16a4d431ef9c"
      },
      "source": [
        "\n",
        "\n",
        "# Need to use 300 for embedding dimensions to match GloVe's vectors.\n",
        "embedding_dim = 300\n",
        "\n",
        "nb_words = len(vocab_to_int)\n",
        "# Create matrix with default values of zero\n",
        "word_embedding_matrix = np.zeros((nb_words, embedding_dim))\n",
        "for word, i in vocab_to_int.items():\n",
        "    if word in embeddings_index:\n",
        "        word_embedding_matrix[i] = embeddings_index[word]\n",
        "    else:\n",
        "        # If word not in GloVe, create a random embedding for it\n",
        "        new_embedding = np.array(np.random.uniform(-1.0, 1.0, embedding_dim))\n",
        "        embeddings_index[word] = new_embedding\n",
        "        word_embedding_matrix[i] = new_embedding\n",
        "\n",
        "# Check if value matches len(vocab_to_int)\n",
        "print(len(word_embedding_matrix))\n",
        "\n",
        "\n",
        "# Note: The embeddings will be updated as the model trains, so our new 'random' embeddings will be more accurate by the end of training. This is also why we want to only use words that appear at least 10 times. By having the model see the word numerous timesm it will be better able to understand what it means. \n"
      ],
      "execution_count": 34,
      "outputs": [
        {
          "output_type": "stream",
          "text": [
            "31265\n"
          ],
          "name": "stdout"
        }
      ]
    },
    {
      "cell_type": "code",
      "metadata": {
        "colab": {
          "base_uri": "https://localhost:8080/"
        },
        "id": "ZXhg7MuRRKqS",
        "outputId": "8dc13fb9-77b3-4699-cd19-147e6124dc97"
      },
      "source": [
        "# Change the text from words to integers\n",
        "# If word is not in vocab, replace it with <UNK> (unknown)\n",
        "word_count = 0\n",
        "unk_count = 0\n",
        "\n",
        "int_headlines = []\n",
        "\n",
        "for date in clean_headlines:\n",
        "    int_daily_headlines = []\n",
        "    for headline in date:\n",
        "        int_headline = []\n",
        "        for word in headline.split():\n",
        "            word_count += 1\n",
        "            if word in vocab_to_int:\n",
        "                int_headline.append(vocab_to_int[word])\n",
        "            else:\n",
        "                int_headline.append(vocab_to_int[\"<UNK>\"])\n",
        "                unk_count += 1\n",
        "        int_daily_headlines.append(int_headline)\n",
        "    int_headlines.append(int_daily_headlines)\n",
        "\n",
        "unk_percent = round(unk_count/word_count,4)*100\n",
        "\n",
        "print(\"Total number of words in headlines:\", word_count)\n",
        "print(\"Total number of UNKs in headlines:\", unk_count)\n",
        "print(\"Percent of words that are UNK: {}%\".format(unk_percent))\n"
      ],
      "execution_count": 35,
      "outputs": [
        {
          "output_type": "stream",
          "text": [
            "Total number of words in headlines: 615989\n",
            "Total number of UNKs in headlines: 5262\n",
            "Percent of words that are UNK: 0.8500000000000001%\n"
          ],
          "name": "stdout"
        }
      ]
    },
    {
      "cell_type": "code",
      "metadata": {
        "id": "QLQrx5QzRPQQ"
      },
      "source": [
        "\n",
        "# Find the length of headlines\n",
        "lengths = []\n",
        "for date in int_headlines:\n",
        "    for headline in date:\n",
        "        lengths.append(len(headline))\n",
        "\n",
        "# Create a dataframe so that the values can be inspected\n",
        "lengths = pd.DataFrame(lengths, columns=['counts'])\n",
        "\n"
      ],
      "execution_count": 36,
      "outputs": []
    },
    {
      "cell_type": "code",
      "metadata": {
        "colab": {
          "base_uri": "https://localhost:8080/",
          "height": 297
        },
        "id": "rb00ZxWORRe0",
        "outputId": "2f002c5e-f246-42fd-cfae-7467d804c1cb"
      },
      "source": [
        "\n",
        "\n",
        "lengths.describe()\n"
      ],
      "execution_count": 37,
      "outputs": [
        {
          "output_type": "execute_result",
          "data": {
            "text/html": [
              "<div>\n",
              "<style scoped>\n",
              "    .dataframe tbody tr th:only-of-type {\n",
              "        vertical-align: middle;\n",
              "    }\n",
              "\n",
              "    .dataframe tbody tr th {\n",
              "        vertical-align: top;\n",
              "    }\n",
              "\n",
              "    .dataframe thead th {\n",
              "        text-align: right;\n",
              "    }\n",
              "</style>\n",
              "<table border=\"1\" class=\"dataframe\">\n",
              "  <thead>\n",
              "    <tr style=\"text-align: right;\">\n",
              "      <th></th>\n",
              "      <th>counts</th>\n",
              "    </tr>\n",
              "  </thead>\n",
              "  <tbody>\n",
              "    <tr>\n",
              "      <th>count</th>\n",
              "      <td>49693.000000</td>\n",
              "    </tr>\n",
              "    <tr>\n",
              "      <th>mean</th>\n",
              "      <td>12.395891</td>\n",
              "    </tr>\n",
              "    <tr>\n",
              "      <th>std</th>\n",
              "      <td>6.790246</td>\n",
              "    </tr>\n",
              "    <tr>\n",
              "      <th>min</th>\n",
              "      <td>1.000000</td>\n",
              "    </tr>\n",
              "    <tr>\n",
              "      <th>25%</th>\n",
              "      <td>7.000000</td>\n",
              "    </tr>\n",
              "    <tr>\n",
              "      <th>50%</th>\n",
              "      <td>10.000000</td>\n",
              "    </tr>\n",
              "    <tr>\n",
              "      <th>75%</th>\n",
              "      <td>16.000000</td>\n",
              "    </tr>\n",
              "    <tr>\n",
              "      <th>max</th>\n",
              "      <td>41.000000</td>\n",
              "    </tr>\n",
              "  </tbody>\n",
              "</table>\n",
              "</div>"
            ],
            "text/plain": [
              "             counts\n",
              "count  49693.000000\n",
              "mean      12.395891\n",
              "std        6.790246\n",
              "min        1.000000\n",
              "25%        7.000000\n",
              "50%       10.000000\n",
              "75%       16.000000\n",
              "max       41.000000"
            ]
          },
          "metadata": {
            "tags": []
          },
          "execution_count": 37
        }
      ]
    },
    {
      "cell_type": "code",
      "metadata": {
        "id": "ExYj8xVfRUyS"
      },
      "source": [
        "\n",
        "\n",
        "# Limit the length of a day's news to 200 words, and the length of any headline to 16 words.\n",
        "# These values are chosen to not have an excessively long training time and \n",
        "# balance the number of headlines used and the number of words from each headline.\n",
        "max_headline_length = 16\n",
        "max_daily_length = 200\n",
        "pad_headlines = []\n",
        "\n",
        "for date in int_headlines:\n",
        "    pad_daily_headlines = []\n",
        "    for headline in date:\n",
        "        # Add headline if it is less than max length\n",
        "        if len(headline) <= max_headline_length:\n",
        "            for word in headline:\n",
        "                pad_daily_headlines.append(word)\n",
        "        # Limit headline if it is more than max length  \n",
        "        else:\n",
        "            headline = headline[:max_headline_length]\n",
        "            for word in headline:\n",
        "                pad_daily_headlines.append(word)\n",
        "    \n",
        "    # Pad daily_headlines if they are less than max length\n",
        "    if len(pad_daily_headlines) < max_daily_length:\n",
        "        for i in range(max_daily_length-len(pad_daily_headlines)):\n",
        "            pad = vocab_to_int[\"<PAD>\"]\n",
        "            pad_daily_headlines.append(pad)\n",
        "    # Limit daily_headlines if they are more than max length\n",
        "    else:\n",
        "        pad_daily_headlines = pad_daily_headlines[:max_daily_length]\n",
        "    pad_headlines.append(pad_daily_headlines)\n",
        "\n"
      ],
      "execution_count": 38,
      "outputs": []
    },
    {
      "cell_type": "code",
      "metadata": {
        "id": "7XHM0nIIRW0E"
      },
      "source": [
        "# Normalize opening prices (target values)\n",
        "max_price = max(price)\n",
        "min_price = min(price)\n",
        "mean_price = np.mean(price)\n",
        "def normalize(price):\n",
        "    return ((price-min_price)/(max_price-min_price))\n"
      ],
      "execution_count": 39,
      "outputs": []
    },
    {
      "cell_type": "code",
      "metadata": {
        "id": "yz8nAkE7RYwm"
      },
      "source": [
        "norm_price = []\n",
        "for p in price:\n",
        "    norm_price.append(normalize(p))"
      ],
      "execution_count": 40,
      "outputs": []
    },
    {
      "cell_type": "code",
      "metadata": {
        "colab": {
          "base_uri": "https://localhost:8080/"
        },
        "id": "DIia36dGRbpj",
        "outputId": "1049116c-2b8a-43b0-dddb-73983a7b03e3"
      },
      "source": [
        "# Check that normalization worked well\n",
        "print(min(norm_price))\n",
        "print(max(norm_price))\n",
        "print(np.mean(norm_price))"
      ],
      "execution_count": 41,
      "outputs": [
        {
          "output_type": "stream",
          "text": [
            "0.0\n",
            "1.0\n",
            "0.5448422454901358\n"
          ],
          "name": "stdout"
        }
      ]
    },
    {
      "cell_type": "code",
      "metadata": {
        "id": "jeE_4AslRdjK"
      },
      "source": [
        "# Split data into training and testing sets.\n",
        "# Validating data will be created during training.\n",
        "x_train, x_test, y_train, y_test = train_test_split(pad_headlines, norm_price, test_size = 0.15, random_state = 2)\n",
        "\n",
        "x_train = np.array(x_train)\n",
        "x_test = np.array(x_test)\n",
        "y_train = np.array(y_train)\n",
        "y_test = np.array(y_test)\n"
      ],
      "execution_count": 42,
      "outputs": []
    },
    {
      "cell_type": "code",
      "metadata": {
        "colab": {
          "base_uri": "https://localhost:8080/"
        },
        "id": "ZIJLqaU9RfNw",
        "outputId": "fa2173ae-0bd2-4f8e-8e5a-000e1d83227e"
      },
      "source": [
        "# Check the lengths\n",
        "print(len(x_train))\n",
        "print(len(x_test))\n"
      ],
      "execution_count": 43,
      "outputs": [
        {
          "output_type": "stream",
          "text": [
            "1689\n",
            "299\n"
          ],
          "name": "stdout"
        }
      ]
    },
    {
      "cell_type": "code",
      "metadata": {
        "id": "b6Fp-mfLRmEP"
      },
      "source": [
        "# import dill                        \n",
        "# filename = '../data/globalsaveMODEL1.pkl'\n",
        "# dill.dump_session(filename)  #Save session\n",
        "# dill.load_session(filename) # load the session\n",
        "\n",
        "\n",
        "\n",
        "\n",
        "\n",
        "filter_length1 = 3\n",
        "filter_length2 = 5\n",
        "dropout = 0.5\n",
        "learning_rate = 0.001\n",
        "weights = initializers.TruncatedNormal(mean=0.0, stddev=0.1, seed=2)\n",
        "nb_filter = 16\n",
        "rnn_output_size = 128\n",
        "hidden_dims = 128\n",
        "wider = True\n",
        "deeper = True\n",
        "\n",
        "if wider == True:\n",
        "    nb_filter *= 2\n",
        "    rnn_output_size *= 2\n",
        "    hidden_dims *= 2\n",
        "\n",
        "\n",
        "def build_model():\n",
        "    \n",
        "    model1 = Sequential()\n",
        "    \n",
        "    model1.add(Embedding(nb_words, \n",
        "                         embedding_dim,\n",
        "                         weights=[word_embedding_matrix], \n",
        "                         input_length=max_daily_length))\n",
        "    model1.add(Dropout(dropout))\n",
        "    \n",
        "    model1.add(Convolution1D(filters = nb_filter, \n",
        "                             kernel_size = filter_length1, \n",
        "                             padding = 'same',\n",
        "                            activation = 'relu'))\n",
        "    model1.add(Dropout(dropout))\n",
        "    \n",
        "    if deeper == True:\n",
        "        model1.add(Convolution1D(filters = nb_filter, \n",
        "                                 kernel_size = filter_length1, \n",
        "                                 padding = 'same',\n",
        "                                activation = 'relu'))\n",
        "        model1.add(Dropout(dropout))\n",
        "    \n",
        "    model1.add(LSTM(rnn_output_size, \n",
        "                   activation=None,\n",
        "                   kernel_initializer=weights,\n",
        "                   dropout = dropout))\n",
        "    \n",
        "    ####\n",
        "\n",
        "    model2 = Sequential()\n",
        "    \n",
        "    model2.add(Embedding(nb_words, \n",
        "                         embedding_dim,\n",
        "                         weights=[word_embedding_matrix], \n",
        "                         input_length=max_daily_length))\n",
        "    model2.add(Dropout(dropout))\n",
        "    \n",
        "    \n",
        "    model2.add(Convolution1D(filters = nb_filter, \n",
        "                             kernel_size = filter_length2, \n",
        "                             padding = 'same',\n",
        "                             activation = 'relu'))\n",
        "    model2.add(Dropout(dropout))\n",
        "    \n",
        "    if deeper == True:\n",
        "        model2.add(Convolution1D(filters = nb_filter, \n",
        "                                 kernel_size = filter_length2, \n",
        "                                 padding = 'same',\n",
        "                                 activation = 'relu'))\n",
        "        model2.add(Dropout(dropout))\n",
        "    \n",
        "    model2.add(LSTM(rnn_output_size, \n",
        "                    activation=None,\n",
        "                    kernel_initializer=weights,\n",
        "                    dropout = dropout))\n",
        "    \n",
        "    ####\n",
        "\n",
        "    model = Sequential()\n",
        "    model = Add()([model1.output, model2.output])\n",
        "    model = Dense(hidden_dims, kernel_initializer=weights)(model)\n",
        "    model = Dropout(dropout)(model)\n",
        "    \n",
        "    if deeper == True:\n",
        "        model = Dense(hidden_dims//2, kernel_initializer=weights)(model)\n",
        "        model = Dropout(dropout)(model)\n",
        "\n",
        "    model = Dense(1, \n",
        "                    kernel_initializer = weights,\n",
        "                    name='output')(model)\n",
        "    merged_model = Model([model1.input, model2.input],model)\n",
        "    merged_model.compile(loss='mean_squared_error',\n",
        "                  optimizer=Adam(lr=learning_rate,clipvalue=1.0))\n",
        "    return merged_model\n",
        "\n",
        "\n"
      ],
      "execution_count": 47,
      "outputs": []
    },
    {
      "cell_type": "markdown",
      "metadata": {
        "id": "trQpsayDUl_p"
      },
      "source": [
        "## Use grid search to help find a better model\n"
      ]
    },
    {
      "cell_type": "code",
      "metadata": {
        "colab": {
          "base_uri": "https://localhost:8080/"
        },
        "id": "LVRJLEIsRqvG",
        "outputId": "70176ccc-11ab-4671-a1c4-828db2f9af4e"
      },
      "source": [
        "for deeper in [False]:\n",
        "    for wider in [True,False]:\n",
        "        for learning_rate in [0.001]:\n",
        "            for dropout in [0.3, 0.5]:\n",
        "                model = build_model()\n",
        "                print()\n",
        "                print(\"Current model: Deeper={}, Wider={}, LR={}, Dropout={}\".format(\n",
        "                    deeper,wider,learning_rate,dropout))\n",
        "                print()\n",
        "                save_best_weights = 'question_pairs_weights_deeper={}_wider={}_lr={}_dropout={}.h5'.format(\n",
        "                    deeper,wider,learning_rate,dropout)\n",
        "\n",
        "                callbacks = [ModelCheckpoint(save_best_weights, monitor='val_loss', save_best_only=True),\n",
        "                             EarlyStopping(monitor='val_loss', patience=5, verbose=1, mode='auto'),\n",
        "                             ReduceLROnPlateau(monitor='val_loss', factor=0.2, verbose=1, patience=3)]\n",
        "\n",
        "                history = model.fit([x_train,x_train],\n",
        "                                    y_train,\n",
        "                                    batch_size=256,\n",
        "                                    epochs=100,\n",
        "                                    validation_split=0.15,\n",
        "                                    verbose=True,\n",
        "                                    shuffle=True,\n",
        "                                    callbacks = callbacks)\n",
        "\n"
      ],
      "execution_count": 48,
      "outputs": [
        {
          "output_type": "stream",
          "text": [
            "WARNING:tensorflow:Layer lstm will not use cuDNN kernel since it doesn't meet the cuDNN kernel criteria. It will use generic GPU kernel as fallback when running on GPU\n",
            "WARNING:tensorflow:Layer lstm_1 will not use cuDNN kernel since it doesn't meet the cuDNN kernel criteria. It will use generic GPU kernel as fallback when running on GPU\n",
            "\n",
            "Current model: Deeper=False, Wider=True, LR=0.001, Dropout=0.3\n",
            "\n",
            "Epoch 1/100\n",
            "6/6 [==============================] - 42s 1s/step - loss: 2.3603 - val_loss: 0.5198\n",
            "Epoch 2/100\n",
            "6/6 [==============================] - 5s 906ms/step - loss: 0.4422 - val_loss: 0.0129\n",
            "Epoch 3/100\n",
            "6/6 [==============================] - 5s 909ms/step - loss: 0.0991 - val_loss: 0.0174\n",
            "Epoch 4/100\n",
            "6/6 [==============================] - 6s 1s/step - loss: 0.0676 - val_loss: 0.0473\n",
            "Epoch 5/100\n",
            "6/6 [==============================] - 6s 925ms/step - loss: 0.0476 - val_loss: 0.0599\n",
            "\n",
            "Epoch 00005: ReduceLROnPlateau reducing learning rate to 0.00020000000949949026.\n",
            "Epoch 6/100\n",
            "6/6 [==============================] - 5s 884ms/step - loss: 0.0498 - val_loss: 0.0509\n",
            "Epoch 7/100\n",
            "6/6 [==============================] - 5s 903ms/step - loss: 0.0406 - val_loss: 0.0390\n",
            "Epoch 00007: early stopping\n",
            "WARNING:tensorflow:Layer lstm_2 will not use cuDNN kernel since it doesn't meet the cuDNN kernel criteria. It will use generic GPU kernel as fallback when running on GPU\n",
            "WARNING:tensorflow:Layer lstm_3 will not use cuDNN kernel since it doesn't meet the cuDNN kernel criteria. It will use generic GPU kernel as fallback when running on GPU\n",
            "\n",
            "Current model: Deeper=False, Wider=True, LR=0.001, Dropout=0.5\n",
            "\n",
            "Epoch 1/100\n",
            "6/6 [==============================] - 8s 1s/step - loss: 3.0394 - val_loss: 0.4395\n",
            "Epoch 2/100\n",
            "6/6 [==============================] - 5s 893ms/step - loss: 0.6347 - val_loss: 0.0255\n",
            "Epoch 3/100\n",
            "6/6 [==============================] - 5s 913ms/step - loss: 0.2452 - val_loss: 0.0283\n",
            "Epoch 4/100\n",
            "6/6 [==============================] - 6s 1s/step - loss: 0.1535 - val_loss: 0.1196\n",
            "Epoch 5/100\n",
            "6/6 [==============================] - 5s 910ms/step - loss: 0.1353 - val_loss: 0.1089\n",
            "\n",
            "Epoch 00005: ReduceLROnPlateau reducing learning rate to 0.00020000000949949026.\n",
            "Epoch 6/100\n",
            "6/6 [==============================] - 5s 901ms/step - loss: 0.1177 - val_loss: 0.0946\n",
            "Epoch 7/100\n",
            "6/6 [==============================] - 5s 916ms/step - loss: 0.1147 - val_loss: 0.0783\n",
            "Epoch 00007: early stopping\n",
            "WARNING:tensorflow:Layer lstm_4 will not use cuDNN kernel since it doesn't meet the cuDNN kernel criteria. It will use generic GPU kernel as fallback when running on GPU\n",
            "WARNING:tensorflow:Layer lstm_5 will not use cuDNN kernel since it doesn't meet the cuDNN kernel criteria. It will use generic GPU kernel as fallback when running on GPU\n",
            "\n",
            "Current model: Deeper=False, Wider=False, LR=0.001, Dropout=0.3\n",
            "\n",
            "Epoch 1/100\n",
            "6/6 [==============================] - 8s 945ms/step - loss: 2.8706 - val_loss: 0.6398\n",
            "Epoch 2/100\n",
            "6/6 [==============================] - 5s 887ms/step - loss: 0.4904 - val_loss: 0.1159\n",
            "Epoch 3/100\n",
            "6/6 [==============================] - 5s 896ms/step - loss: 0.2276 - val_loss: 0.0281\n",
            "Epoch 4/100\n",
            "6/6 [==============================] - 5s 895ms/step - loss: 0.0615 - val_loss: 0.0901\n",
            "Epoch 5/100\n",
            "6/6 [==============================] - 6s 1s/step - loss: 0.0789 - val_loss: 0.0401\n",
            "Epoch 6/100\n",
            "6/6 [==============================] - 5s 884ms/step - loss: 0.0366 - val_loss: 0.0175\n",
            "Epoch 7/100\n",
            "6/6 [==============================] - 5s 877ms/step - loss: 0.0421 - val_loss: 0.0183\n",
            "Epoch 8/100\n",
            "6/6 [==============================] - 6s 1s/step - loss: 0.0339 - val_loss: 0.0290\n",
            "Epoch 9/100\n",
            "6/6 [==============================] - 5s 858ms/step - loss: 0.0275 - val_loss: 0.0305\n",
            "\n",
            "Epoch 00009: ReduceLROnPlateau reducing learning rate to 0.00020000000949949026.\n",
            "Epoch 10/100\n",
            "6/6 [==============================] - 5s 878ms/step - loss: 0.0311 - val_loss: 0.0282\n",
            "Epoch 11/100\n",
            "6/6 [==============================] - 5s 881ms/step - loss: 0.0269 - val_loss: 0.0252\n",
            "Epoch 00011: early stopping\n",
            "WARNING:tensorflow:Layer lstm_6 will not use cuDNN kernel since it doesn't meet the cuDNN kernel criteria. It will use generic GPU kernel as fallback when running on GPU\n",
            "WARNING:tensorflow:Layer lstm_7 will not use cuDNN kernel since it doesn't meet the cuDNN kernel criteria. It will use generic GPU kernel as fallback when running on GPU\n",
            "\n",
            "Current model: Deeper=False, Wider=False, LR=0.001, Dropout=0.5\n",
            "\n",
            "Epoch 1/100\n",
            "6/6 [==============================] - 9s 972ms/step - loss: 3.3139 - val_loss: 0.4314\n",
            "Epoch 2/100\n",
            "6/6 [==============================] - 5s 879ms/step - loss: 0.6069 - val_loss: 0.0152\n",
            "Epoch 3/100\n",
            "6/6 [==============================] - 5s 868ms/step - loss: 0.3185 - val_loss: 0.0502\n",
            "Epoch 4/100\n",
            "6/6 [==============================] - 6s 1s/step - loss: 0.1750 - val_loss: 0.1230\n",
            "Epoch 5/100\n",
            "6/6 [==============================] - 8s 1s/step - loss: 0.1489 - val_loss: 0.0584\n",
            "\n",
            "Epoch 00005: ReduceLROnPlateau reducing learning rate to 0.00020000000949949026.\n",
            "Epoch 6/100\n",
            "6/6 [==============================] - 5s 876ms/step - loss: 0.1116 - val_loss: 0.0499\n",
            "Epoch 7/100\n",
            "6/6 [==============================] - 8s 1s/step - loss: 0.1136 - val_loss: 0.0464\n",
            "Epoch 00007: early stopping\n"
          ],
          "name": "stdout"
        }
      ]
    },
    {
      "cell_type": "code",
      "metadata": {
        "colab": {
          "base_uri": "https://localhost:8080/"
        },
        "id": "Y9CzoszERt8o",
        "outputId": "fcc7d2be-8b9c-4049-c157-9dcbc7cd2a06"
      },
      "source": [
        "# In[312]:\n",
        "\n",
        "# Make predictions with the best weights\n",
        "deeper=False\n",
        "wider=False\n",
        "dropout=0.3\n",
        "learning_Rate = 0.001\n",
        "# Need to rebuild model in case it is different from the model that was trained most recently.\n",
        "model = build_model()\n",
        "\n",
        "model.load_weights('./question_pairs_weights_deeper={}_wider={}_lr={}_dropout={}.h5'.format(\n",
        "                    deeper,wider,learning_rate,dropout))\n",
        "predictions = model.predict([x_test,x_test], verbose = True)\n"
      ],
      "execution_count": 49,
      "outputs": [
        {
          "output_type": "stream",
          "text": [
            "WARNING:tensorflow:Layer lstm_8 will not use cuDNN kernel since it doesn't meet the cuDNN kernel criteria. It will use generic GPU kernel as fallback when running on GPU\n",
            "WARNING:tensorflow:Layer lstm_9 will not use cuDNN kernel since it doesn't meet the cuDNN kernel criteria. It will use generic GPU kernel as fallback when running on GPU\n",
            "10/10 [==============================] - 1s 67ms/step\n"
          ],
          "name": "stdout"
        }
      ]
    },
    {
      "cell_type": "code",
      "metadata": {
        "id": "qhvtHzHPRwe1"
      },
      "source": [
        "\n",
        "def unnormalize(price):\n",
        "    '''Revert values to their unnormalized amounts'''\n",
        "    price = price*(max_price-min_price)+min_price\n",
        "    return(price)\n",
        "\n"
      ],
      "execution_count": 50,
      "outputs": []
    },
    {
      "cell_type": "code",
      "metadata": {
        "id": "OX816-umRzCp"
      },
      "source": [
        "\n",
        "unnorm_predictions = []\n",
        "for pred in predictions:\n",
        "    unnorm_predictions.append(unnormalize(pred))\n",
        "    \n",
        "unnorm_y_test = []\n",
        "for y in y_test:\n",
        "    unnorm_y_test.append(unnormalize(y))"
      ],
      "execution_count": 51,
      "outputs": []
    },
    {
      "cell_type": "code",
      "metadata": {
        "colab": {
          "base_uri": "https://localhost:8080/"
        },
        "id": "rdvSNdx3R1rl",
        "outputId": "e9c5bf6d-4229-4618-95e8-c9e5b38ec65f"
      },
      "source": [
        "# In[362]:\n",
        "\n",
        "print(\"Summary of actual opening price changes\")\n",
        "print(pd.DataFrame(unnorm_y_test, columns=[\"\"]).describe())\n",
        "print()\n",
        "print(\"Summary of predicted opening price changes\")\n",
        "print(pd.DataFrame(unnorm_predictions, columns=[\"\"]).describe())"
      ],
      "execution_count": 52,
      "outputs": [
        {
          "output_type": "stream",
          "text": [
            "Summary of actual opening price changes\n",
            "                 \n",
            "count  299.000000\n",
            "mean    -7.094101\n",
            "std    139.532324\n",
            "min   -541.050782\n",
            "25%    -87.465332\n",
            "50%    -10.759766\n",
            "75%     54.689941\n",
            "max    673.139648\n",
            "\n",
            "Summary of predicted opening price changes\n",
            "                 \n",
            "count  299.000000\n",
            "mean   -77.524850\n",
            "std    148.384082\n",
            "min   -479.015961\n",
            "25%   -182.081543\n",
            "50%    -82.015991\n",
            "75%     10.665344\n",
            "max    713.142334\n"
          ],
          "name": "stdout"
        }
      ]
    },
    {
      "cell_type": "code",
      "metadata": {
        "colab": {
          "base_uri": "https://localhost:8080/",
          "height": 295
        },
        "id": "Z3swxkIhR3iB",
        "outputId": "b1796d73-1f96-4f1c-8ad6-a711bcc64a59"
      },
      "source": [
        "\n",
        "# Plot the predicted (blue) and actual (green) values\n",
        "plt.figure(figsize=(12,4))\n",
        "plt.plot(unnorm_predictions)\n",
        "plt.plot(unnorm_y_test)\n",
        "plt.title(\"Predicted (blue) vs Actual (green) Opening Price Changes\")\n",
        "plt.xlabel(\"Testing instances\")\n",
        "plt.ylabel(\"Change in Opening Price\")\n",
        "plt.savefig(\"PredictedvActual.png\")\n",
        "plt.savefig(\"PredictedvActual.png\")\n"
      ],
      "execution_count": 53,
      "outputs": [
        {
          "output_type": "display_data",
          "data": {
            "image/png": "[encoded data removed]",
            "text/plain": [
              "<Figure size 864x288 with 1 Axes>"
            ]
          },
          "metadata": {
            "tags": [],
            "needs_background": "light"
          }
        }
      ]
    },
    {
      "cell_type": "code",
      "metadata": {
        "colab": {
          "base_uri": "https://localhost:8080/"
        },
        "id": "-C1SvpDeR8TB",
        "outputId": "897d5e3f-3f98-44c4-bc04-6f8588cd1afa"
      },
      "source": [
        "\n",
        "# Create lists to measure if opening price increased or decreased\n",
        "direction_pred = []\n",
        "for pred in unnorm_predictions:\n",
        "    if pred >= 0:\n",
        "        direction_pred.append(1)\n",
        "    else:\n",
        "        direction_pred.append(0)\n",
        "direction_test = []\n",
        "for value in unnorm_y_test:\n",
        "    if value >= 0:\n",
        "        direction_test.append(1)\n",
        "    else:\n",
        "        direction_test.append(0)\n",
        "\n",
        "\n",
        "#Total Training time\n",
        "\n",
        "class TimeHistory(Callback):\n",
        "    def on_train_begin(self, logs={}):\n",
        "        self.times = []\n",
        "\n",
        "    def on_epoch_begin(self, epoch, logs={}):\n",
        "        self.epoch_time_start = time.time()\n",
        "\n",
        "    def on_epoch_end(self, epoch, logs={}):\n",
        "        self.times.append(time.time() - self.epoch_time_start)\n",
        "\n",
        "time_callback = TimeHistory()\n",
        "#print (\"Average epoch training time: {} seconds\".format(np.mean(time_callback.times)))\n",
        "\n",
        "# Calculate errors\n",
        "mae = mae(unnorm_y_test, unnorm_predictions) #median absolute error\n",
        "rmse = np.sqrt(mse(y_test, predictions)) # root mean squared error\n",
        "r2 = r2(unnorm_y_test, unnorm_predictions) #R squared error\n",
        "\n",
        "print(\"Median absolute error: {}\".format(mae))\n",
        "print(\"Root mean suqared error: {}\".format(rmse))\n",
        "print(\"R squared error: {}\".format(r2))\n",
        "\n",
        "# Calculate if the predicted direction matched the actual direction\n",
        "direction = acc(direction_test, direction_pred)\n",
        "direction = round(direction,4)*100\n",
        "print(\"Predicted values matched the actual direction {}% of the time.\".format(direction))\n",
        "\n",
        "#Display the graph\n",
        "plt.show()\n",
        "\n",
        "\n",
        "# As we can see from the data above, this model struggles to accurately predict the change in the opening price of the Dow Jones Instrustial Average. Given that its median average error is 74.15 and the interquartile range of the actual price change is 142.16 (87.47 + 54.69), this model is about as good as someone who knows the average price change of the Dow. \n",
        "# \n",
        "# I have a few ideas for why this model struggles:\n",
        "# - The market is arguably to be a random walk. Although there is some direction to its movements, there is still quite a bit of randomness to its movements.\n",
        "# - The news that we used might not be the most relevant. Perhaps it would have been better to use news relating to the 30 companies that make up the Dow.\n",
        "# - More information could have been included in the model, such as the previous day(s)'s change, the previous day(s)'s main headline(s). \n",
        "# - Many people have worked on this task for years and companies spend millions of dollars to try to predict the movements of the market, so we shouldn't expect anything too great considering the small amount of data that we are working with and the simplicity of our model.\n",
        "\n",
        "# ## Make Your Own Predictions\n",
        "\n",
        "# Below is the code necessary to make your own predictions. I found that the predictions are most accurate when there is no padding included in the input data. In the create_news variable, I have some default news that you can use, which is from April 30th, 2017. Just change the text to whatever you want, then see the impact your new headline will have.\n"
      ],
      "execution_count": 54,
      "outputs": [
        {
          "output_type": "stream",
          "text": [
            "Median absolute error: 137.74139385546903\n",
            "Root mean suqared error: 0.12193254376990172\n",
            "R squared error: -1.200258607934646\n",
            "Predicted values matched the actual direction 52.17% of the time.\n"
          ],
          "name": "stdout"
        }
      ]
    },
    {
      "cell_type": "code",
      "metadata": {
        "id": "X7dxNdF-SAAi"
      },
      "source": [
        "def news_to_int(news):\n",
        "    '''Convert your created news into integers'''\n",
        "    ints = []\n",
        "    for word in news.split():\n",
        "        if word in vocab_to_int:\n",
        "            ints.append(vocab_to_int[word])\n",
        "        else:\n",
        "            ints.append(vocab_to_int['<UNK>'])\n",
        "    return ints\n",
        "\n",
        "\n"
      ],
      "execution_count": 55,
      "outputs": []
    },
    {
      "cell_type": "code",
      "metadata": {
        "id": "TvYb2FVcSCpB"
      },
      "source": [
        "def padding_news(news):\n",
        "    '''Adjusts the length of your created news to fit the model's input values.'''\n",
        "    padded_news = news\n",
        "    if len(padded_news) < max_daily_length:\n",
        "        for i in range(max_daily_length-len(padded_news)):\n",
        "            padded_news.append(vocab_to_int[\"<PAD>\"])\n",
        "    elif len(padded_news) > max_daily_length:\n",
        "        padded_news = padded_news[:max_daily_length]\n",
        "    return padded_news\n",
        "\n",
        "\n"
      ],
      "execution_count": 56,
      "outputs": []
    },
    {
      "cell_type": "code",
      "metadata": {
        "colab": {
          "base_uri": "https://localhost:8080/"
        },
        "id": "F-e6Zka1SQEY",
        "outputId": "28ece3f6-418d-4f2f-c402-132cbd10f868"
      },
      "source": [
        "# Default news that you can use\n",
        "create_news = \"Leaked document reveals Facebook conducted research to target emotionally vulnerable and insecure youth.                Woman says note from Chinese 'prisoner' was hidden in new purse.                21,000 AT&T workers poised for Monday strike                housands march against Trump climate policies in D.C., across USA                Kentucky judge won't hear gay adoptions because it's not in the child's \\\"best interest\\\"                Multiple victims shot in UTC area apartment complex                Drones Lead Police to Illegal Dumping in Riverside County | NBC Southern California                An 86-year-old Californian woman has died trying to fight a man who was allegedly sexually assaulting her 61-year-old friend.                Fyre Festival Named in $5Million+ Lawsuit after Stranding Festival-Goers on Island with Little Food, No Security.                The \\\"Greatest Show on Earth\\\" folds its tent for good                U.S.-led fight on ISIS have killed 352 civilians: Pentagon                Woman offers undercover officer sex for $25 and some Chicken McNuggets                Ohio bridge refuses to fall down after three implosion attempts                Jersey Shore MIT grad dies in prank falling from library dome                New York graffiti artists claim McDonald's stole work for latest burger campaign                SpaceX to launch secretive satellite for U.S. intelligence agency                Severe Storms Leave a Trail of Death and Destruction Through the U.S.                Hamas thanks N. Korea for its support against ‘Israeli occupation’                Baker Police officer arrested for allegedly covering up details in shots fired investigation                Miami doctor’s call to broker during baby’s delivery leads to $33.8 million judgment                Minnesota man gets 15 years for shooting 5 Black Lives Matter protesters                South Australian woman facing possible 25 years in Colombian prison for drug trafficking                The Latest: Deal reached on funding government through Sept.                Russia flaunts Arctic expansion with new military bases\"\n",
        "\n",
        "clean_news = clean_text(create_news)\n",
        "\n",
        "int_news = news_to_int(clean_news)\n",
        "\n",
        "pad_news = padding_news(int_news)\n",
        "\n",
        "pad_news = np.array(pad_news).reshape((1,-1))\n",
        "\n",
        "pred = model.predict([pad_news,pad_news])\n",
        "\n",
        "price_change = unnormalize(pred)\n",
        "\n",
        "print(\"The Dow should open: {} from the previous open.\".format(np.round(price_change[0][0],2)))"
      ],
      "execution_count": 57,
      "outputs": [
        {
          "output_type": "stream",
          "text": [
            "The Dow should open: -83.44999694824219 from the previous open.\n"
          ],
          "name": "stdout"
        }
      ]
    },
    {
      "cell_type": "code",
      "metadata": {
        "id": "kgcFe59J3VqT"
      },
      "source": [
        ""
      ],
      "execution_count": null,
      "outputs": []
    }
  ]
}